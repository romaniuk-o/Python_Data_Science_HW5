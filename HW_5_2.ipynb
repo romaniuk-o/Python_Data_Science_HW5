{
  "nbformat": 4,
  "nbformat_minor": 0,
  "metadata": {
    "colab": {
      "provenance": [],
      "authorship_tag": "ABX9TyPCutCPsTjsHMoTnhfgfIqB",
      "include_colab_link": true
    },
    "kernelspec": {
      "name": "python3",
      "display_name": "Python 3"
    },
    "language_info": {
      "name": "python"
    }
  },
  "cells": [
    {
      "cell_type": "markdown",
      "metadata": {
        "id": "view-in-github",
        "colab_type": "text"
      },
      "source": [
        "<a href=\"https://colab.research.google.com/github/romaniuk-o/Python_Data_Science_HW5/blob/main/HW_5_2.ipynb\" target=\"_parent\"><img src=\"https://colab.research.google.com/assets/colab-badge.svg\" alt=\"Open In Colab\"/></a>"
      ]
    },
    {
      "cell_type": "markdown",
      "source": [
        "У другій частині попереднього домашнього завдання ми вирішували диференціальні рівняння та будували графіки. Продовжуємо працювати над цією домашньою роботою далі.\n"
      ],
      "metadata": {
        "id": "EYX8d40I40eD"
      }
    },
    {
      "cell_type": "code",
      "source": [
        "from scipy.integrate import solve_ivp\n",
        "import matplotlib.pyplot as plt\n",
        "from scipy.interpolate import interp1d\n",
        "from scipy.optimize import curve_fit, leastsq, minimize_scalar\n",
        "\n",
        "import numpy as np"
      ],
      "metadata": {
        "id": "BZFouyKFKfMa"
      },
      "execution_count": 59,
      "outputs": []
    },
    {
      "cell_type": "code",
      "source": [
        "α = 0.5\n",
        "𝛽 = 0.3\n",
        "N0 = 1000000\n",
        "S0 = 990000\n",
        "I0 = 7000\n",
        "R0 = 3000\n",
        "t0, tf = 0, 25\n",
        "\n",
        "#--------------------------------------------------------------------------\n",
        "\n",
        "def dSdt(t, S):\n",
        "    return - α * S\n",
        "\n",
        "soln_1 = solve_ivp(dSdt, (t0, tf), [S0], dense_output=True)\n",
        "\n",
        "t_1, s_1 = soln_1.t, soln_1.y[0]\n",
        "z_1, = soln_1.sol(t_1)\n",
        "\n",
        "#--------------------------------------------------------------------------\n",
        "\n",
        "\n",
        "def dSdt(t, I):\n",
        "    return α * soln_1.sol(t) - 𝛽 * I\n",
        "\n",
        "\n",
        "soln_2 = solve_ivp(dSdt, (t0, tf), [I0], dense_output=True)\n",
        "\n",
        "t_2, s_2 = soln_2.t, soln_2.y[0]\n",
        "z_2, = soln_2.sol(t_2)\n",
        "\n",
        "#--------------------------------------------------------------------------\n",
        "\n",
        "S_t = interp1d(t_1, s_1, kind='cubic')\n",
        "I_t = interp1d(t_2, s_2, kind='cubic')\n",
        "R = N0 - S_t(t_1) - I_t(t_1)\n"
      ],
      "metadata": {
        "id": "iZhOiXXIKhvr"
      },
      "execution_count": 60,
      "outputs": []
    },
    {
      "cell_type": "markdown",
      "source": [
        "\n",
        "**HW5---------------HW5---------------HW5---------------------HW5---------------HW5---------------------HW5**\n",
        "\n",
        "\n",
        "Необхідно методом найменших квадратів:\n"
      ],
      "metadata": {
        "id": "q7DKfeMsKb5l"
      }
    },
    {
      "cell_type": "markdown",
      "source": [
        "1. для набору даних графіка функції $S(t)$ отримати рівняння виду \n",
        "$S(t)=S0*e^−αt"
      ],
      "metadata": {
        "id": "17WiOvHr47pT"
      }
    },
    {
      "cell_type": "code",
      "execution_count": 61,
      "metadata": {
        "colab": {
          "base_uri": "https://localhost:8080/"
        },
        "id": "2xTbfVtR4yl6",
        "outputId": "08218a74-7755-4920-f934-dd5bfa43688a"
      },
      "outputs": [
        {
          "output_type": "execute_result",
          "data": {
            "text/plain": [
              "array([9.89978640e+05, 4.99856001e-01])"
            ]
          },
          "metadata": {},
          "execution_count": 61
        }
      ],
      "source": [
        "\n",
        "def fun_1(t, s, α):\n",
        "    return s * np.exp(-α * t)\n",
        "\n",
        "def diff_1(p, y, t):\n",
        "    s, α = p\n",
        "    return y - fun_1(t, s, α)\n",
        "\n",
        "\n",
        "p0 = S0, α \n",
        "apr_s, _ = leastsq(diff_1, p0, args=(s_1, t_1))\n",
        "apr_s"
      ]
    },
    {
      "cell_type": "markdown",
      "source": [
        "2. для набору даних графіка функції $I(t)$ отримати рівняння виду $I(t)=(I0+αS0t)e^−αt"
      ],
      "metadata": {
        "id": "eMjKh31FHbY1"
      }
    },
    {
      "cell_type": "code",
      "source": [
        "\n",
        "def fun_2(t, s, α, i):\n",
        "    return (i + α * s * t) * np.exp(-α * t)\n",
        "\n",
        "def diff_2(p, y, t):\n",
        "    s, α, i = p\n",
        "    return y - fun_2(t, s, α, i)\n",
        "\n",
        "\n",
        "p0 = S0, α, I0\n",
        "apr_i, _ = leastsq(diff_2, p0, args=(s_2, t_2))\n",
        "apr_i"
      ],
      "metadata": {
        "colab": {
          "base_uri": "https://localhost:8080/"
        },
        "id": "6b2IN0vBHt_D",
        "outputId": "2b8ea626-933a-4e93-8dd0-9f3a4d1117c5"
      },
      "execution_count": 62,
      "outputs": [
        {
          "output_type": "execute_result",
          "data": {
            "text/plain": [
              "array([1.25281252e+06, 3.83762944e-01, 8.08519969e+03])"
            ]
          },
          "metadata": {},
          "execution_count": 62
        }
      ]
    },
    {
      "cell_type": "markdown",
      "source": [
        "3. Для рівняння $R(t)$ графік функції буде $R(t)=N−S(t)−I(t)$:"
      ],
      "metadata": {
        "id": "5EJRLVGaHuKj"
      }
    },
    {
      "cell_type": "code",
      "source": [
        "def fun_3(t_1, t_2):\n",
        "  return N0 - fun_1(t_2, *apr_s) - fun_2(t_2, *apr_i)\n",
        "\n",
        "fun_3(t_1, t_2)\n",
        "\n",
        "\n",
        "# R = N0 - fun_1(t_1, *apr_s) - fun_2(t_2, *apr_i)\n",
        "# R"
      ],
      "metadata": {
        "colab": {
          "base_uri": "https://localhost:8080/"
        },
        "id": "L1QyHaNiYPgh",
        "outputId": "b2ba6de0-1c49-44c9-90e5-38e615224c18"
      },
      "execution_count": 63,
      "outputs": [
        {
          "output_type": "execute_result",
          "data": {
            "text/plain": [
              "array([  1936.16065529,   2192.06072371,   6032.90274288, 118003.92225701,\n",
              "       360955.56068284, 614359.24923669, 820454.71497198, 928669.85103112,\n",
              "       973164.16446555, 990122.40164729, 996360.72180881, 998670.12068635,\n",
              "       999176.83703915])"
            ]
          },
          "metadata": {},
          "execution_count": 63
        }
      ]
    },
    {
      "cell_type": "markdown",
      "source": [
        "4. Побудувати всі три графіки $S(t), I(t)$ і $R(t)$ на одній області відображення, отримані методом найменших квадратів"
      ],
      "metadata": {
        "id": "C6ZAgQ66H4-X"
      }
    },
    {
      "cell_type": "code",
      "source": [
        "plt.subplots(figsize=(15, 5))\n",
        "\n",
        "plt.plot(t_1, fun_1(t_1, apr_s[0], apr_s[1]), 'b', label='S(t)')\n",
        "\n",
        "plt.plot(t_2, fun_2(t_2, apr_i[0], apr_i[1], apr_i[2]), 'r', label='I(t)')\n",
        "\n",
        "plt.plot(t_2, fun_3(t_1, t_2),'g', label='R(t)')\n",
        "\n",
        "\n",
        "plt.legend()\n",
        "plt.grid()\n",
        "plt.show()"
      ],
      "metadata": {
        "colab": {
          "base_uri": "https://localhost:8080/",
          "height": 460
        },
        "id": "_yfFwifOIGCK",
        "outputId": "f0276e77-12f9-4ed4-a9e4-e058b6acae5a"
      },
      "execution_count": 64,
      "outputs": [
        {
          "output_type": "display_data",
          "data": {
            "text/plain": [
              "<Figure size 1500x500 with 1 Axes>"
            ],
            "image/png": "[encoded data removed]"
          },
          "metadata": {}
        }
      ]
    },
    {
      "cell_type": "markdown",
      "source": [
        "5. Знайти час $tmax$, за якого кількість інфекційних індивідів максимальна. Потрібно за допомогою методу ***minimize_scalar*** знайти, коли функція $I(t)$ досягає свого максимуму."
      ],
      "metadata": {
        "id": "Lqbb6dFUIGOa"
      }
    },
    {
      "cell_type": "code",
      "source": [
        "\n",
        "t_max = minimize_scalar(lambda t_2 : -fun_2(t_2, S0, α, I0), bounds=(0, 5))\n",
        "t_max.x"
      ],
      "metadata": {
        "colab": {
          "base_uri": "https://localhost:8080/"
        },
        "id": "jxxNfq9JIPXd",
        "outputId": "7c275e98-ee43-4df5-edfa-16538ca4691e"
      },
      "execution_count": 65,
      "outputs": [
        {
          "output_type": "execute_result",
          "data": {
            "text/plain": [
              "1.9858586318719673"
            ]
          },
          "metadata": {},
          "execution_count": 65
        }
      ]
    }
  ]
}