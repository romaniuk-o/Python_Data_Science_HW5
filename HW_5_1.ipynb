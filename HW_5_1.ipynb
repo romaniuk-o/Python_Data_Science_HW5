{
  "nbformat": 4,
  "nbformat_minor": 0,
  "metadata": {
    "colab": {
      "provenance": [],
      "authorship_tag": "ABX9TyPBxQpy3wFl8JOpzlkmwixN",
      "include_colab_link": true
    },
    "kernelspec": {
      "name": "python3",
      "display_name": "Python 3"
    },
    "language_info": {
      "name": "python"
    }
  },
  "cells": [
    {
      "cell_type": "markdown",
      "metadata": {
        "id": "view-in-github",
        "colab_type": "text"
      },
      "source": [
        "<a href=\"https://colab.research.google.com/github/romaniuk-o/Python_Data_Science_HW5/blob/main/HW_5_1.ipynb\" target=\"_parent\"><img src=\"https://colab.research.google.com/assets/colab-badge.svg\" alt=\"Open In Colab\"/></a>"
      ]
    },
    {
      "cell_type": "markdown",
      "source": [
        "Для прямокутної області площею 1000 м2, що примикає до прямої ділянки річки, необхідно побудувати огорожу (причому, зі сторони річки огорожу будувати не потрібно). За яких розмірів області a, b довжина огорожі буде мінімальною? Використовуйте функцію minimize з параметрами обмеженнями $bounds$ і $constraints$"
      ],
      "metadata": {
        "id": "8RygOY3PjqNi"
      }
    },
    {
      "cell_type": "code",
      "source": [
        "from scipy.interpolate import griddata\n",
        "from scipy.optimize import minimize, minimize_scalar, LinearConstraint\n",
        "import numpy as np\n",
        "import matplotlib.pyplot as plt"
      ],
      "metadata": {
        "id": "d3-uDiM9L9M0"
      },
      "execution_count": 8,
      "outputs": []
    },
    {
      "cell_type": "code",
      "source": [
        "\n",
        "\n",
        "x = np.linspace(0, 1000, 1000)\n",
        "y = np.linspace(-10, 1000, 1000)\n",
        "\n",
        "X, Y = np.meshgrid(x, y)\n",
        "\n",
        "px, py = np.random.choice(x, 250), np.random.choice(y, 250)\n",
        "\n",
        "def f(arg):\n",
        "    x, y = arg \n",
        "    return 2 * x + y \n"
      ],
      "metadata": {
        "id": "RwmPpnyPSa6F"
      },
      "execution_count": 15,
      "outputs": []
    },
    {
      "cell_type": "code",
      "source": [
        "xbounds = (1, None)\n",
        "ybounds = (1, None)\n",
        "bounds = (xbounds, ybounds)\n",
        "\n",
        "def fun(args):\n",
        "  x, y = args\n",
        "  return x * y - 1000 \n",
        "\n",
        "cons = ({'type': 'ineq', 'fun': fun})\n",
        "result = minimize(f, [1, 1000], bounds=bounds, constraints = cons, method='slsqp')\n",
        "result"
      ],
      "metadata": {
        "colab": {
          "base_uri": "https://localhost:8080/"
        },
        "id": "_Jb0G3rGVoNW",
        "outputId": "4ce5f5c0-8c73-4d25-f8ca-5201fef41c81"
      },
      "execution_count": 14,
      "outputs": [
        {
          "output_type": "execute_result",
          "data": {
            "text/plain": [
              " message: Optimization terminated successfully\n",
              " success: True\n",
              "  status: 0\n",
              "     fun: 89.44271935804974\n",
              "       x: [ 2.236e+01  4.472e+01]\n",
              "     nit: 18\n",
              "     jac: [ 2.000e+00  1.000e+00]\n",
              "    nfev: 51\n",
              "    njev: 17"
            ]
          },
          "metadata": {},
          "execution_count": 14
        }
      ]
    }
  ]
}